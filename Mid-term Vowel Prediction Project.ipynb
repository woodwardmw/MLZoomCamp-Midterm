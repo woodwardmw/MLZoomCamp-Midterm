{
 "cells": [
  {
   "cell_type": "markdown",
   "id": "dd0d4a01",
   "metadata": {},
   "source": [
    "Data: http://archive.ics.uci.edu/ml/machine-learning-databases/undocumented/connectionist-bench/vowel/\n",
    "\n",
    "https://sci2s.ugr.es/keel/dataset.php?cod=113"
   ]
  },
  {
   "cell_type": "markdown",
   "id": "853fd146",
   "metadata": {},
   "source": [
    "#### Instructions\n",
    "* Thinking of a problem that's interesting for you and finding a dataset for that\n",
    "* Describing this problem and explaining how a model could be used\n",
    "* Preparing the data and doing EDA, analyzing important features\n",
    "* Training multiple models, tuning their performance and selecting the best model\n",
    "* Exporting the notebook into a script\n",
    "* Putting your model into a web service and deploying it locally with docker\n",
    "* Bonus points for deploying the service to the cloud"
   ]
  },
  {
   "cell_type": "markdown",
   "id": "f016b82c",
   "metadata": {},
   "source": [
    "## Introduction\n",
    "In phonetics, it is generally known that the resonant frequencies of the vocal tract of the speaker can be used to determine the quality of the vowel being spoken. These resonant frequencies \n",
    "\n",
    "Here I have taken data of English speakers pronouncing eleven different vowels in their language. The data is taken from the [UCI Machine Learning Repository](http://archive.ics.uci.edu/ml/datasets/Connectionist+Bench+%28Vowel+Recognition+-+Deterding+Data%29).\n",
    "\n",
    "The data consists of 15 speakers each pronouncing 11 vowels, six times each. The phonetic data is then processed, and classified as formats from f0 to f9, and recorded together with data about which speaker has made the sound and the sex of the speaker.\n",
    "\n",
    "The data I used came from [here](http://archive.ics.uci.edu/ml/machine-learning-databases/undocumented/connectionist-bench/vowel/vowel-context.data)."
   ]
  },
  {
   "cell_type": "markdown",
   "id": "7cdf45a6",
   "metadata": {},
   "source": [
    "## Imports and Settings"
   ]
  },
  {
   "cell_type": "code",
   "execution_count": 43,
   "id": "b310e5a8",
   "metadata": {},
   "outputs": [],
   "source": [
    "import pandas as pd\n",
    "# import numpy as np\n",
    "import seaborn as sns\n",
    "import matplotlib.pyplot as plt\n",
    "import random\n",
    "import sklearn\n",
    "pd.set_option('display.max_rows', 200)\n",
    "from statistics import mean\n"
   ]
  },
  {
   "cell_type": "markdown",
   "id": "59f8749a",
   "metadata": {},
   "source": [
    "## Data Exploration"
   ]
  },
  {
   "cell_type": "code",
   "execution_count": 44,
   "id": "c71a5f5a",
   "metadata": {},
   "outputs": [
    {
     "data": {
      "text/html": [
       "<div>\n",
       "<style scoped>\n",
       "    .dataframe tbody tr th:only-of-type {\n",
       "        vertical-align: middle;\n",
       "    }\n",
       "\n",
       "    .dataframe tbody tr th {\n",
       "        vertical-align: top;\n",
       "    }\n",
       "\n",
       "    .dataframe thead th {\n",
       "        text-align: right;\n",
       "    }\n",
       "</style>\n",
       "<table border=\"1\" class=\"dataframe\">\n",
       "  <thead>\n",
       "    <tr style=\"text-align: right;\">\n",
       "      <th></th>\n",
       "      <th>train_test</th>\n",
       "      <th>speaker</th>\n",
       "      <th>sex</th>\n",
       "      <th>f0</th>\n",
       "      <th>f1</th>\n",
       "      <th>f2</th>\n",
       "      <th>f3</th>\n",
       "      <th>f4</th>\n",
       "      <th>f5</th>\n",
       "      <th>f6</th>\n",
       "      <th>f7</th>\n",
       "      <th>f8</th>\n",
       "      <th>f9</th>\n",
       "      <th>vowel</th>\n",
       "    </tr>\n",
       "  </thead>\n",
       "  <tbody>\n",
       "    <tr>\n",
       "      <th>0</th>\n",
       "      <td>0</td>\n",
       "      <td>0</td>\n",
       "      <td>0</td>\n",
       "      <td>-3.639</td>\n",
       "      <td>0.418</td>\n",
       "      <td>-0.670</td>\n",
       "      <td>1.779</td>\n",
       "      <td>-0.168</td>\n",
       "      <td>1.627</td>\n",
       "      <td>-0.388</td>\n",
       "      <td>0.529</td>\n",
       "      <td>-0.874</td>\n",
       "      <td>-0.814</td>\n",
       "      <td>0</td>\n",
       "    </tr>\n",
       "    <tr>\n",
       "      <th>1</th>\n",
       "      <td>0</td>\n",
       "      <td>0</td>\n",
       "      <td>0</td>\n",
       "      <td>-3.327</td>\n",
       "      <td>0.496</td>\n",
       "      <td>-0.694</td>\n",
       "      <td>1.365</td>\n",
       "      <td>-0.265</td>\n",
       "      <td>1.933</td>\n",
       "      <td>-0.363</td>\n",
       "      <td>0.510</td>\n",
       "      <td>-0.621</td>\n",
       "      <td>-0.488</td>\n",
       "      <td>1</td>\n",
       "    </tr>\n",
       "    <tr>\n",
       "      <th>2</th>\n",
       "      <td>0</td>\n",
       "      <td>0</td>\n",
       "      <td>0</td>\n",
       "      <td>-2.120</td>\n",
       "      <td>0.894</td>\n",
       "      <td>-1.576</td>\n",
       "      <td>0.147</td>\n",
       "      <td>-0.707</td>\n",
       "      <td>1.559</td>\n",
       "      <td>-0.579</td>\n",
       "      <td>0.676</td>\n",
       "      <td>-0.809</td>\n",
       "      <td>-0.049</td>\n",
       "      <td>2</td>\n",
       "    </tr>\n",
       "    <tr>\n",
       "      <th>3</th>\n",
       "      <td>0</td>\n",
       "      <td>0</td>\n",
       "      <td>0</td>\n",
       "      <td>-2.287</td>\n",
       "      <td>1.809</td>\n",
       "      <td>-1.498</td>\n",
       "      <td>1.012</td>\n",
       "      <td>-1.053</td>\n",
       "      <td>1.060</td>\n",
       "      <td>-0.567</td>\n",
       "      <td>0.235</td>\n",
       "      <td>-0.091</td>\n",
       "      <td>-0.795</td>\n",
       "      <td>3</td>\n",
       "    </tr>\n",
       "    <tr>\n",
       "      <th>4</th>\n",
       "      <td>0</td>\n",
       "      <td>0</td>\n",
       "      <td>0</td>\n",
       "      <td>-2.598</td>\n",
       "      <td>1.938</td>\n",
       "      <td>-0.846</td>\n",
       "      <td>1.062</td>\n",
       "      <td>-1.633</td>\n",
       "      <td>0.764</td>\n",
       "      <td>0.394</td>\n",
       "      <td>-0.150</td>\n",
       "      <td>0.277</td>\n",
       "      <td>-0.396</td>\n",
       "      <td>4</td>\n",
       "    </tr>\n",
       "    <tr>\n",
       "      <th>...</th>\n",
       "      <td>...</td>\n",
       "      <td>...</td>\n",
       "      <td>...</td>\n",
       "      <td>...</td>\n",
       "      <td>...</td>\n",
       "      <td>...</td>\n",
       "      <td>...</td>\n",
       "      <td>...</td>\n",
       "      <td>...</td>\n",
       "      <td>...</td>\n",
       "      <td>...</td>\n",
       "      <td>...</td>\n",
       "      <td>...</td>\n",
       "      <td>...</td>\n",
       "    </tr>\n",
       "    <tr>\n",
       "      <th>985</th>\n",
       "      <td>1</td>\n",
       "      <td>14</td>\n",
       "      <td>1</td>\n",
       "      <td>-3.239</td>\n",
       "      <td>3.083</td>\n",
       "      <td>-1.427</td>\n",
       "      <td>-0.202</td>\n",
       "      <td>-0.282</td>\n",
       "      <td>1.421</td>\n",
       "      <td>0.576</td>\n",
       "      <td>0.068</td>\n",
       "      <td>-0.914</td>\n",
       "      <td>0.147</td>\n",
       "      <td>6</td>\n",
       "    </tr>\n",
       "    <tr>\n",
       "      <th>986</th>\n",
       "      <td>1</td>\n",
       "      <td>14</td>\n",
       "      <td>1</td>\n",
       "      <td>-3.753</td>\n",
       "      <td>3.605</td>\n",
       "      <td>-0.899</td>\n",
       "      <td>-0.747</td>\n",
       "      <td>-0.401</td>\n",
       "      <td>1.765</td>\n",
       "      <td>0.620</td>\n",
       "      <td>0.754</td>\n",
       "      <td>-0.835</td>\n",
       "      <td>-0.301</td>\n",
       "      <td>7</td>\n",
       "    </tr>\n",
       "    <tr>\n",
       "      <th>987</th>\n",
       "      <td>1</td>\n",
       "      <td>14</td>\n",
       "      <td>1</td>\n",
       "      <td>-3.980</td>\n",
       "      <td>2.459</td>\n",
       "      <td>0.068</td>\n",
       "      <td>0.023</td>\n",
       "      <td>0.237</td>\n",
       "      <td>1.029</td>\n",
       "      <td>-0.189</td>\n",
       "      <td>0.521</td>\n",
       "      <td>-0.773</td>\n",
       "      <td>-0.500</td>\n",
       "      <td>8</td>\n",
       "    </tr>\n",
       "    <tr>\n",
       "      <th>988</th>\n",
       "      <td>1</td>\n",
       "      <td>14</td>\n",
       "      <td>1</td>\n",
       "      <td>-4.264</td>\n",
       "      <td>2.925</td>\n",
       "      <td>0.065</td>\n",
       "      <td>0.794</td>\n",
       "      <td>0.323</td>\n",
       "      <td>0.515</td>\n",
       "      <td>-1.282</td>\n",
       "      <td>-0.140</td>\n",
       "      <td>-0.863</td>\n",
       "      <td>-0.390</td>\n",
       "      <td>9</td>\n",
       "    </tr>\n",
       "    <tr>\n",
       "      <th>989</th>\n",
       "      <td>1</td>\n",
       "      <td>14</td>\n",
       "      <td>1</td>\n",
       "      <td>-3.291</td>\n",
       "      <td>2.324</td>\n",
       "      <td>-0.679</td>\n",
       "      <td>0.285</td>\n",
       "      <td>0.441</td>\n",
       "      <td>0.557</td>\n",
       "      <td>-0.227</td>\n",
       "      <td>0.115</td>\n",
       "      <td>-1.046</td>\n",
       "      <td>0.697</td>\n",
       "      <td>10</td>\n",
       "    </tr>\n",
       "  </tbody>\n",
       "</table>\n",
       "<p>990 rows × 14 columns</p>\n",
       "</div>"
      ],
      "text/plain": [
       "     train_test  speaker  sex     f0     f1     f2     f3     f4     f5  \\\n",
       "0             0        0    0 -3.639  0.418 -0.670  1.779 -0.168  1.627   \n",
       "1             0        0    0 -3.327  0.496 -0.694  1.365 -0.265  1.933   \n",
       "2             0        0    0 -2.120  0.894 -1.576  0.147 -0.707  1.559   \n",
       "3             0        0    0 -2.287  1.809 -1.498  1.012 -1.053  1.060   \n",
       "4             0        0    0 -2.598  1.938 -0.846  1.062 -1.633  0.764   \n",
       "..          ...      ...  ...    ...    ...    ...    ...    ...    ...   \n",
       "985           1       14    1 -3.239  3.083 -1.427 -0.202 -0.282  1.421   \n",
       "986           1       14    1 -3.753  3.605 -0.899 -0.747 -0.401  1.765   \n",
       "987           1       14    1 -3.980  2.459  0.068  0.023  0.237  1.029   \n",
       "988           1       14    1 -4.264  2.925  0.065  0.794  0.323  0.515   \n",
       "989           1       14    1 -3.291  2.324 -0.679  0.285  0.441  0.557   \n",
       "\n",
       "        f6     f7     f8     f9  vowel  \n",
       "0   -0.388  0.529 -0.874 -0.814      0  \n",
       "1   -0.363  0.510 -0.621 -0.488      1  \n",
       "2   -0.579  0.676 -0.809 -0.049      2  \n",
       "3   -0.567  0.235 -0.091 -0.795      3  \n",
       "4    0.394 -0.150  0.277 -0.396      4  \n",
       "..     ...    ...    ...    ...    ...  \n",
       "985  0.576  0.068 -0.914  0.147      6  \n",
       "986  0.620  0.754 -0.835 -0.301      7  \n",
       "987 -0.189  0.521 -0.773 -0.500      8  \n",
       "988 -1.282 -0.140 -0.863 -0.390      9  \n",
       "989 -0.227  0.115 -1.046  0.697     10  \n",
       "\n",
       "[990 rows x 14 columns]"
      ]
     },
     "execution_count": 44,
     "metadata": {},
     "output_type": "execute_result"
    }
   ],
   "source": [
    "df = pd.read_csv('vowels_data.csv')\n",
    "df"
   ]
  },
  {
   "cell_type": "markdown",
   "id": "f360738c",
   "metadata": {},
   "source": [
    "The vowels are encoded from 0 to 10. I would like to be able to express them as actual vowels, so the following function does that (referring to [the documentation](http://archive.ics.uci.edu/ml/machine-learning-databases/undocumented/connectionist-bench/vowel/vowel-context.names)."
   ]
  },
  {
   "cell_type": "code",
   "execution_count": 45,
   "id": "062dd6f8",
   "metadata": {},
   "outputs": [],
   "source": [
    "def convert_to_vowel(vowel_int):\n",
    "    convert = {\n",
    "    0: 'hid',\n",
    "\t1: 'hId',\t\t\n",
    "\t2: 'hEd',\n",
    "\t3: 'hAd',\t\t\n",
    "\t4: 'hYd',\t\t\n",
    "\t5: 'had',\t\t\n",
    "\t6: 'hOd',\t\t\n",
    "\t7: 'hod',\t\t\n",
    "\t8: 'hUd',\t\t\n",
    "\t9: 'hud',\t\t\n",
    "\t10: 'hed'\n",
    "    }\n",
    "    return convert.get(vowel_int, \"No vowel given\")"
   ]
  },
  {
   "cell_type": "markdown",
   "id": "80a3b19c",
   "metadata": {},
   "source": [
    "The original data comes with a pre-determined train-test split, but I wanted to use my own, so I removed this column."
   ]
  },
  {
   "cell_type": "code",
   "execution_count": 46,
   "id": "36ef6cb1",
   "metadata": {},
   "outputs": [],
   "source": [
    "df.drop(columns = \"train_test\", inplace = True)"
   ]
  },
  {
   "cell_type": "markdown",
   "id": "ed8b039c",
   "metadata": {},
   "source": [
    "It's tricky to know how to split the data for train/val/test. Although I have 990 rows of data, they are only spoken by 15 people, and it is reasonable to think that the person speaking is likely to have a significant impact on the data.\n",
    "\n",
    "If I were to split the 990 rows randomly, I would have data leakage from the test data into the training data, since some of the training data would come from the same people who also produced test data.\n",
    "\n",
    "Therefore I decided to split off the test data according to people. I chose two male and two female speakers to constitute the test data.\n",
    "\n",
    "I considered whether or not I should take a similar approach for the validation data. In the end I decided to use a manual cross-validation, where I held back one person from the training data each time to be used for validation, and then took the mean of the evaluation metrics."
   ]
  },
  {
   "cell_type": "code",
   "execution_count": 47,
   "id": "66157377",
   "metadata": {},
   "outputs": [],
   "source": [
    "df_test = df[df.speaker.isin([10, 11, 13, 14])]  # Two male and two female in df_test"
   ]
  },
  {
   "cell_type": "code",
   "execution_count": 74,
   "id": "903542fa",
   "metadata": {},
   "outputs": [],
   "source": [
    "df_train = df[df.speaker.isin([0,1,2,3,4,5,6,7,8,9,12])]\n",
    "df_train = df_train.sample(frac=1).reset_index(drop=True)  # Randomise the order of the training examples"
   ]
  },
  {
   "cell_type": "code",
   "execution_count": 49,
   "id": "0042bf86",
   "metadata": {},
   "outputs": [
    {
     "data": {
      "text/html": [
       "<div>\n",
       "<style scoped>\n",
       "    .dataframe tbody tr th:only-of-type {\n",
       "        vertical-align: middle;\n",
       "    }\n",
       "\n",
       "    .dataframe tbody tr th {\n",
       "        vertical-align: top;\n",
       "    }\n",
       "\n",
       "    .dataframe thead th {\n",
       "        text-align: right;\n",
       "    }\n",
       "</style>\n",
       "<table border=\"1\" class=\"dataframe\">\n",
       "  <thead>\n",
       "    <tr style=\"text-align: right;\">\n",
       "      <th></th>\n",
       "      <th>speaker</th>\n",
       "      <th>sex</th>\n",
       "      <th>f0</th>\n",
       "      <th>f1</th>\n",
       "      <th>f2</th>\n",
       "      <th>f3</th>\n",
       "      <th>f4</th>\n",
       "      <th>f5</th>\n",
       "      <th>f6</th>\n",
       "      <th>f7</th>\n",
       "      <th>f8</th>\n",
       "      <th>f9</th>\n",
       "      <th>vowel</th>\n",
       "    </tr>\n",
       "  </thead>\n",
       "  <tbody>\n",
       "    <tr>\n",
       "      <th>0</th>\n",
       "      <td>3</td>\n",
       "      <td>0</td>\n",
       "      <td>-2.052</td>\n",
       "      <td>1.483</td>\n",
       "      <td>-0.488</td>\n",
       "      <td>0.041</td>\n",
       "      <td>-0.131</td>\n",
       "      <td>0.273</td>\n",
       "      <td>-0.112</td>\n",
       "      <td>-0.064</td>\n",
       "      <td>0.307</td>\n",
       "      <td>-0.800</td>\n",
       "      <td>3</td>\n",
       "    </tr>\n",
       "    <tr>\n",
       "      <th>1</th>\n",
       "      <td>7</td>\n",
       "      <td>1</td>\n",
       "      <td>-3.434</td>\n",
       "      <td>2.260</td>\n",
       "      <td>-1.065</td>\n",
       "      <td>-0.122</td>\n",
       "      <td>-0.795</td>\n",
       "      <td>0.363</td>\n",
       "      <td>1.403</td>\n",
       "      <td>-0.507</td>\n",
       "      <td>-0.375</td>\n",
       "      <td>0.015</td>\n",
       "      <td>4</td>\n",
       "    </tr>\n",
       "    <tr>\n",
       "      <th>2</th>\n",
       "      <td>2</td>\n",
       "      <td>0</td>\n",
       "      <td>-2.227</td>\n",
       "      <td>1.993</td>\n",
       "      <td>-0.156</td>\n",
       "      <td>1.554</td>\n",
       "      <td>-1.190</td>\n",
       "      <td>0.332</td>\n",
       "      <td>-0.548</td>\n",
       "      <td>1.362</td>\n",
       "      <td>-0.013</td>\n",
       "      <td>0.369</td>\n",
       "      <td>4</td>\n",
       "    </tr>\n",
       "    <tr>\n",
       "      <th>3</th>\n",
       "      <td>5</td>\n",
       "      <td>1</td>\n",
       "      <td>-2.952</td>\n",
       "      <td>0.777</td>\n",
       "      <td>-0.740</td>\n",
       "      <td>1.311</td>\n",
       "      <td>0.424</td>\n",
       "      <td>0.853</td>\n",
       "      <td>-0.319</td>\n",
       "      <td>-0.082</td>\n",
       "      <td>-1.456</td>\n",
       "      <td>0.616</td>\n",
       "      <td>2</td>\n",
       "    </tr>\n",
       "    <tr>\n",
       "      <th>4</th>\n",
       "      <td>8</td>\n",
       "      <td>0</td>\n",
       "      <td>-2.073</td>\n",
       "      <td>0.088</td>\n",
       "      <td>-0.730</td>\n",
       "      <td>0.296</td>\n",
       "      <td>-0.286</td>\n",
       "      <td>1.750</td>\n",
       "      <td>0.154</td>\n",
       "      <td>1.078</td>\n",
       "      <td>0.294</td>\n",
       "      <td>-0.174</td>\n",
       "      <td>1</td>\n",
       "    </tr>\n",
       "  </tbody>\n",
       "</table>\n",
       "</div>"
      ],
      "text/plain": [
       "   speaker  sex     f0     f1     f2     f3     f4     f5     f6     f7  \\\n",
       "0        3    0 -2.052  1.483 -0.488  0.041 -0.131  0.273 -0.112 -0.064   \n",
       "1        7    1 -3.434  2.260 -1.065 -0.122 -0.795  0.363  1.403 -0.507   \n",
       "2        2    0 -2.227  1.993 -0.156  1.554 -1.190  0.332 -0.548  1.362   \n",
       "3        5    1 -2.952  0.777 -0.740  1.311  0.424  0.853 -0.319 -0.082   \n",
       "4        8    0 -2.073  0.088 -0.730  0.296 -0.286  1.750  0.154  1.078   \n",
       "\n",
       "      f8     f9  vowel  \n",
       "0  0.307 -0.800      3  \n",
       "1 -0.375  0.015      4  \n",
       "2 -0.013  0.369      4  \n",
       "3 -1.456  0.616      2  \n",
       "4  0.294 -0.174      1  "
      ]
     },
     "execution_count": 49,
     "metadata": {},
     "output_type": "execute_result"
    }
   ],
   "source": [
    "df_train.head()"
   ]
  },
  {
   "cell_type": "markdown",
   "id": "b1f8e841",
   "metadata": {},
   "source": [
    "Types of columns:"
   ]
  },
  {
   "cell_type": "code",
   "execution_count": 50,
   "id": "4d7c86e6",
   "metadata": {},
   "outputs": [
    {
     "data": {
      "text/plain": [
       "speaker      int64\n",
       "sex          int64\n",
       "f0         float64\n",
       "f1         float64\n",
       "f2         float64\n",
       "f3         float64\n",
       "f4         float64\n",
       "f5         float64\n",
       "f6         float64\n",
       "f7         float64\n",
       "f8         float64\n",
       "f9         float64\n",
       "vowel        int64\n",
       "dtype: object"
      ]
     },
     "execution_count": 50,
     "metadata": {},
     "output_type": "execute_result"
    }
   ],
   "source": [
    "df_train.dtypes"
   ]
  },
  {
   "cell_type": "markdown",
   "id": "cbaf3bc2",
   "metadata": {},
   "source": [
    "## Missing Values"
   ]
  },
  {
   "cell_type": "code",
   "execution_count": 51,
   "id": "2147dfc7",
   "metadata": {},
   "outputs": [
    {
     "data": {
      "text/plain": [
       "speaker    0\n",
       "sex        0\n",
       "f0         0\n",
       "f1         0\n",
       "f2         0\n",
       "f3         0\n",
       "f4         0\n",
       "f5         0\n",
       "f6         0\n",
       "f7         0\n",
       "f8         0\n",
       "f9         0\n",
       "vowel      0\n",
       "dtype: int64"
      ]
     },
     "execution_count": 51,
     "metadata": {},
     "output_type": "execute_result"
    }
   ],
   "source": [
    "df_train.isnull().sum()"
   ]
  },
  {
   "cell_type": "markdown",
   "id": "f1d86e1e",
   "metadata": {},
   "source": [
    "No missing values. Yay!"
   ]
  },
  {
   "cell_type": "markdown",
   "id": "64874832",
   "metadata": {},
   "source": [
    "## Exploration of features"
   ]
  },
  {
   "cell_type": "code",
   "execution_count": 52,
   "id": "37338654",
   "metadata": {},
   "outputs": [
    {
     "data": {
      "text/plain": [
       "<AxesSubplot:>"
      ]
     },
     "execution_count": 52,
     "metadata": {},
     "output_type": "execute_result"
    },
    {
     "data": {
      "image/png": "[encoded data removed]",
      "text/plain": [
       "<Figure size 432x288 with 1 Axes>"
      ]
     },
     "metadata": {
      "needs_background": "light"
     },
     "output_type": "display_data"
    }
   ],
   "source": [
    "sns.boxplot(data = df_train[['f0', 'f1', 'f2', 'f3', 'f4', 'f5', 'f6', 'f7', 'f8', 'f9']])"
   ]
  },
  {
   "cell_type": "code",
   "execution_count": 53,
   "id": "70364746",
   "metadata": {},
   "outputs": [],
   "source": [
    "from sklearn.feature_selection import mutual_info_classif"
   ]
  },
  {
   "cell_type": "code",
   "execution_count": 76,
   "id": "3aa04de3",
   "metadata": {},
   "outputs": [],
   "source": [
    "MI = mutual_info_classif(df_train.drop(['vowel'], axis=1), df_train['vowel'])"
   ]
  },
  {
   "cell_type": "code",
   "execution_count": 75,
   "id": "b997b5b8",
   "metadata": {},
   "outputs": [
    {
     "data": {
      "image/png": "[encoded data removed]",
      "text/plain": [
       "<Figure size 432x288 with 1 Axes>"
      ]
     },
     "metadata": {
      "needs_background": "light"
     },
     "output_type": "display_data"
    }
   ],
   "source": [
    "fig = plt.figure()\n",
    "ax = fig.add_axes([0,0,1,1])\n",
    "ax.bar(df_train.drop(['vowel'], axis=1).columns, MI)\n",
    "plt.show()"
   ]
  },
  {
   "cell_type": "markdown",
   "id": "efef7f63",
   "metadata": {},
   "source": [
    "## Build and test some initial models"
   ]
  },
  {
   "cell_type": "code",
   "execution_count": 57,
   "id": "e9950bf2",
   "metadata": {},
   "outputs": [],
   "source": [
    "from sklearn.linear_model import LogisticRegression\n",
    "from sklearn.ensemble import RandomForestClassifier\n",
    "from sklearn.ensemble import GradientBoostingClassifier\n",
    "from sklearn.metrics import roc_auc_score"
   ]
  },
  {
   "cell_type": "markdown",
   "id": "2fd8c3f9",
   "metadata": {},
   "source": [
    "Set up a function that will take a model and run a cross-validation test on it, using the data of one speaker at a time for validation. The function returns the AUC and accuracy."
   ]
  },
  {
   "cell_type": "code",
   "execution_count": 58,
   "id": "fcf9b4a3",
   "metadata": {},
   "outputs": [],
   "source": [
    "def evaluate_model(model, df_train = df_train):\n",
    "    speakers = df_train['speaker'].unique()\n",
    "    scores = []\n",
    "    accuracy = []\n",
    "    for speaker in speakers:\n",
    "        df_train = df_train.copy()\n",
    "        X_train = df_train[df_train['speaker'] != speaker]\n",
    "        X_val = df_train[df_train['speaker'] == speaker]\n",
    "        y_train = df_train.loc[df_train['speaker'] != speaker]['vowel']\n",
    "        y_val = df_train.loc[df_train['speaker'] == speaker]['vowel']\n",
    "        model.fit(X_train.drop(['vowel', 'speaker'], axis=1), y_train)\n",
    "        y_preds_proba = model.predict_proba(X_val.drop(['vowel', 'speaker'], axis=1))\n",
    "        y_preds = model.predict(X_val.drop(['vowel', 'speaker'], axis=1))\n",
    "        scores.append(roc_auc_score(y_val, y_preds_proba, multi_class='ovo'))\n",
    "        accuracy.append(mean((y_preds == y_val).astype(int)))\n",
    "    return mean(scores), mean(accuracy)"
   ]
  },
  {
   "cell_type": "markdown",
   "id": "3c574b30",
   "metadata": {},
   "source": [
    "#### Logistic Regression"
   ]
  },
  {
   "cell_type": "code",
   "execution_count": 67,
   "id": "fb51ac61",
   "metadata": {},
   "outputs": [
    {
     "name": "stderr",
     "output_type": "stream",
     "text": [
      "/home/mark/.local/share/virtualenvs/MLZoomCamp-_LaD5eOB/lib/python3.9/site-packages/sklearn/linear_model/_sag.py:352: ConvergenceWarning: The max_iter was reached which means the coef_ did not converge\n",
      "  warnings.warn(\n",
      "/home/mark/.local/share/virtualenvs/MLZoomCamp-_LaD5eOB/lib/python3.9/site-packages/sklearn/linear_model/_sag.py:352: ConvergenceWarning: The max_iter was reached which means the coef_ did not converge\n",
      "  warnings.warn(\n",
      "/home/mark/.local/share/virtualenvs/MLZoomCamp-_LaD5eOB/lib/python3.9/site-packages/sklearn/linear_model/_sag.py:352: ConvergenceWarning: The max_iter was reached which means the coef_ did not converge\n",
      "  warnings.warn(\n",
      "/home/mark/.local/share/virtualenvs/MLZoomCamp-_LaD5eOB/lib/python3.9/site-packages/sklearn/linear_model/_sag.py:352: ConvergenceWarning: The max_iter was reached which means the coef_ did not converge\n",
      "  warnings.warn(\n",
      "/home/mark/.local/share/virtualenvs/MLZoomCamp-_LaD5eOB/lib/python3.9/site-packages/sklearn/linear_model/_sag.py:352: ConvergenceWarning: The max_iter was reached which means the coef_ did not converge\n",
      "  warnings.warn(\n",
      "/home/mark/.local/share/virtualenvs/MLZoomCamp-_LaD5eOB/lib/python3.9/site-packages/sklearn/linear_model/_sag.py:352: ConvergenceWarning: The max_iter was reached which means the coef_ did not converge\n",
      "  warnings.warn(\n",
      "/home/mark/.local/share/virtualenvs/MLZoomCamp-_LaD5eOB/lib/python3.9/site-packages/sklearn/linear_model/_sag.py:352: ConvergenceWarning: The max_iter was reached which means the coef_ did not converge\n",
      "  warnings.warn(\n",
      "/home/mark/.local/share/virtualenvs/MLZoomCamp-_LaD5eOB/lib/python3.9/site-packages/sklearn/linear_model/_sag.py:352: ConvergenceWarning: The max_iter was reached which means the coef_ did not converge\n",
      "  warnings.warn(\n",
      "/home/mark/.local/share/virtualenvs/MLZoomCamp-_LaD5eOB/lib/python3.9/site-packages/sklearn/linear_model/_sag.py:352: ConvergenceWarning: The max_iter was reached which means the coef_ did not converge\n",
      "  warnings.warn(\n",
      "/home/mark/.local/share/virtualenvs/MLZoomCamp-_LaD5eOB/lib/python3.9/site-packages/sklearn/linear_model/_sag.py:352: ConvergenceWarning: The max_iter was reached which means the coef_ did not converge\n",
      "  warnings.warn(\n"
     ]
    },
    {
     "name": "stdout",
     "output_type": "stream",
     "text": [
      "AUC: 0.9114784205693297\n",
      "Accuracy: 0.4834710743801653\n"
     ]
    },
    {
     "name": "stderr",
     "output_type": "stream",
     "text": [
      "/home/mark/.local/share/virtualenvs/MLZoomCamp-_LaD5eOB/lib/python3.9/site-packages/sklearn/linear_model/_sag.py:352: ConvergenceWarning: The max_iter was reached which means the coef_ did not converge\n",
      "  warnings.warn(\n"
     ]
    }
   ],
   "source": [
    "lr = LogisticRegression(multi_class=\"multinomial\", solver='saga')\n",
    "AUC, accuracy = evaluate_model(lr)\n",
    "print(f'AUC: {AUC}\\nAccuracy: {accuracy}')"
   ]
  },
  {
   "cell_type": "markdown",
   "id": "8d954acd",
   "metadata": {},
   "source": [
    "#### Random Forest"
   ]
  },
  {
   "cell_type": "code",
   "execution_count": 12,
   "id": "ce30a34a",
   "metadata": {},
   "outputs": [
    {
     "name": "stdout",
     "output_type": "stream",
     "text": [
      "AUC: 0.9389807162534435\n",
      "Accuracy: 0.5950413223140496\n"
     ]
    }
   ],
   "source": [
    "rf = RandomForestClassifier()\n",
    "AUC, accuracy = evaluate_model(rf)\n",
    "print(f'AUC: {AUC}\\nAccuracy: {accuracy}')"
   ]
  },
  {
   "cell_type": "markdown",
   "id": "5ff8484d",
   "metadata": {},
   "source": [
    "#### Gradient Boosting"
   ]
  },
  {
   "cell_type": "code",
   "execution_count": 13,
   "id": "39023505",
   "metadata": {},
   "outputs": [
    {
     "name": "stdout",
     "output_type": "stream",
     "text": [
      "AUC: 0.8944674012855831\n",
      "Accuracy: 0.5206611570247934\n"
     ]
    }
   ],
   "source": [
    "gb = GradientBoostingClassifier()\n",
    "AUC, accuracy = evaluate_model(gb)\n",
    "print(f'AUC: {AUC}\\nAccuracy: {accuracy}')"
   ]
  },
  {
   "cell_type": "markdown",
   "id": "8e32cfe6",
   "metadata": {},
   "source": [
    "## Tuning Hyperparameters"
   ]
  },
  {
   "cell_type": "markdown",
   "id": "1cbbf95c",
   "metadata": {},
   "source": [
    "It seems from that Random Forest is the most promising, so I will aim to tune its hyperparameters."
   ]
  },
  {
   "cell_type": "markdown",
   "id": "95dfad9b",
   "metadata": {},
   "source": [
    "### Random Forest"
   ]
  },
  {
   "cell_type": "code",
   "execution_count": 17,
   "id": "0f4cb9e2",
   "metadata": {},
   "outputs": [],
   "source": [
    "n_estimators_list = [25, 50, 100, 200, 400, 800, 1600]"
   ]
  },
  {
   "cell_type": "code",
   "execution_count": 77,
   "id": "275d2e21",
   "metadata": {
    "collapsed": true
   },
   "outputs": [
    {
     "ename": "NameError",
     "evalue": "name 'n_estimators_list' is not defined",
     "output_type": "error",
     "traceback": [
      "\u001b[0;31m---------------------------------------------------------------------------\u001b[0m",
      "\u001b[0;31mNameError\u001b[0m                                 Traceback (most recent call last)",
      "\u001b[0;32m/tmp/ipykernel_2680206/3527040369.py\u001b[0m in \u001b[0;36m<module>\u001b[0;34m\u001b[0m\n\u001b[0;32m----> 1\u001b[0;31m \u001b[0;32mfor\u001b[0m \u001b[0mn\u001b[0m \u001b[0;32min\u001b[0m \u001b[0mn_estimators_list\u001b[0m\u001b[0;34m:\u001b[0m\u001b[0;34m\u001b[0m\u001b[0;34m\u001b[0m\u001b[0m\n\u001b[0m\u001b[1;32m      2\u001b[0m     \u001b[0mrf\u001b[0m \u001b[0;34m=\u001b[0m \u001b[0mRandomForestClassifier\u001b[0m\u001b[0;34m(\u001b[0m\u001b[0mn_estimators\u001b[0m\u001b[0;34m=\u001b[0m\u001b[0mn\u001b[0m\u001b[0;34m)\u001b[0m\u001b[0;34m\u001b[0m\u001b[0;34m\u001b[0m\u001b[0m\n\u001b[1;32m      3\u001b[0m     \u001b[0mprint\u001b[0m\u001b[0;34m(\u001b[0m\u001b[0;34mf'n_estimators: {n} \\t AUC: {evaluate_model(rf)}'\u001b[0m\u001b[0;34m)\u001b[0m\u001b[0;34m\u001b[0m\u001b[0;34m\u001b[0m\u001b[0m\n",
      "\u001b[0;31mNameError\u001b[0m: name 'n_estimators_list' is not defined"
     ]
    }
   ],
   "source": [
    "for n in n_estimators_list:\n",
    "    rf = RandomForestClassifier(n_estimators=n)\n",
    "    print(f'n_estimators: {n} \\t AUC: {evaluate_model(rf)}')"
   ]
  },
  {
   "cell_type": "code",
   "execution_count": 78,
   "id": "dd9d8a8b",
   "metadata": {},
   "outputs": [],
   "source": [
    "n_estimators_list = [300, 400, 500, 600, 800, 1200, 1600]"
   ]
  },
  {
   "cell_type": "code",
   "execution_count": 79,
   "id": "0e5e6a00",
   "metadata": {},
   "outputs": [
    {
     "name": "stdout",
     "output_type": "stream",
     "text": [
      "n_estimators: 300 \t AUC: (0.9488062442607896, 0.5936639118457301)\n",
      "n_estimators: 400 \t AUC: (0.9483930211202939, 0.59366391184573)\n",
      "n_estimators: 500 \t AUC: (0.9502295684113866, 0.6060606060606061)\n",
      "n_estimators: 600 \t AUC: (0.9468089990817263, 0.5881542699724518)\n",
      "n_estimators: 800 \t AUC: (0.9506198347107438, 0.6019283746556474)\n",
      "n_estimators: 1200 \t AUC: (0.9518595041322314, 0.6005509641873278)\n",
      "n_estimators: 1600 \t AUC: (0.9525022956841139, 0.5936639118457301)\n"
     ]
    }
   ],
   "source": [
    "for n in n_estimators_list:\n",
    "    rf = RandomForestClassifier(n_estimators=n)\n",
    "    print(f'n_estimators: {n} \\t AUC: {evaluate_model(rf)}')"
   ]
  },
  {
   "cell_type": "code",
   "execution_count": 80,
   "id": "c9b8029c",
   "metadata": {},
   "outputs": [],
   "source": [
    "max_depth_list = [10, 15, 20, 30, 50]"
   ]
  },
  {
   "cell_type": "code",
   "execution_count": 81,
   "id": "cf1dda1e",
   "metadata": {},
   "outputs": [
    {
     "name": "stdout",
     "output_type": "stream",
     "text": [
      "max_depth: 10 \t AUC: (0.9490472910927457, 0.6060606060606061)\n",
      "max_depth: 15 \t AUC: (0.9505853994490358, 0.6088154269972452)\n",
      "max_depth: 20 \t AUC: (0.9520431588613407, 0.5867768595041323)\n",
      "max_depth: 30 \t AUC: (0.9485192837465565, 0.5922865013774105)\n",
      "max_depth: 50 \t AUC: (0.9485766758494032, 0.6046831955922864)\n"
     ]
    }
   ],
   "source": [
    "for m in max_depth_list:\n",
    "    rf = RandomForestClassifier(n_estimators=500, max_depth=m)\n",
    "    print(f'max_depth: {m} \\t AUC: {evaluate_model(rf)}')"
   ]
  },
  {
   "cell_type": "code",
   "execution_count": 82,
   "id": "55980cfd",
   "metadata": {},
   "outputs": [],
   "source": [
    "max_depth_list_short = [10, 15, 20]\n",
    "n_estimators_list_short = [400, 500, 600, 800]"
   ]
  },
  {
   "cell_type": "code",
   "execution_count": 85,
   "id": "a44d540a",
   "metadata": {},
   "outputs": [
    {
     "name": "stdout",
     "output_type": "stream",
     "text": [
      "max_depth: 10, n_estimators: 400 \t AUC, Accuracy: (0.9482782369146006, 0.5895316804407713)\n",
      "max_depth: 10, n_estimators: 500 \t AUC, Accuracy: (0.9493342516069789, 0.5826446280991735)\n",
      "max_depth: 10, n_estimators: 600 \t AUC, Accuracy: (0.9477157943067034, 0.5881542699724518)\n",
      "max_depth: 10, n_estimators: 800 \t AUC, Accuracy: (0.9507116620752984, 0.5840220385674931)\n",
      "max_depth: 15, n_estimators: 400 \t AUC, Accuracy: (0.9484504132231405, 0.5922865013774105)\n",
      "max_depth: 15, n_estimators: 500 \t AUC, Accuracy: (0.948714416896235, 0.5964187327823691)\n",
      "max_depth: 15, n_estimators: 600 \t AUC, Accuracy: (0.947704315886134, 0.5977961432506887)\n",
      "max_depth: 15, n_estimators: 800 \t AUC, Accuracy: (0.9522842056932965, 0.5964187327823691)\n",
      "max_depth: 20, n_estimators: 400 \t AUC, Accuracy: (0.9484044995408631, 0.5840220385674931)\n",
      "max_depth: 20, n_estimators: 500 \t AUC, Accuracy: (0.9495752984389348, 0.5964187327823691)\n",
      "max_depth: 20, n_estimators: 600 \t AUC, Accuracy: (0.9503673094582186, 0.6033057851239669)\n",
      "max_depth: 20, n_estimators: 800 \t AUC, Accuracy: (0.9495867768595041, 0.6005509641873278)\n"
     ]
    }
   ],
   "source": [
    "for m in max_depth_list_short:\n",
    "    for n in n_estimators_list_short:\n",
    "        rf = RandomForestClassifier(n_estimators=n, max_depth=m)\n",
    "        print(f'max_depth: {m}, n_estimators: {n} \\t AUC, Accuracy: {evaluate_model(rf)}')"
   ]
  },
  {
   "cell_type": "markdown",
   "id": "de2ccb4c",
   "metadata": {},
   "source": [
    "### Best model"
   ]
  },
  {
   "cell_type": "code",
   "execution_count": 88,
   "id": "06dac85f",
   "metadata": {},
   "outputs": [
    {
     "name": "stdout",
     "output_type": "stream",
     "text": [
      "AUC: 0.9499081726354454\n",
      "Accuracy: 0.5909090909090909\n"
     ]
    }
   ],
   "source": [
    "rf = RandomForestClassifier(n_estimators=800, max_depth=15)\n",
    "AUC, accuracy = evaluate_model(rf)\n",
    "print(f'AUC: {AUC}\\nAccuracy: {accuracy}')"
   ]
  },
  {
   "cell_type": "markdown",
   "id": "97d701c7",
   "metadata": {},
   "source": [
    "## Exporting the Model"
   ]
  },
  {
   "cell_type": "markdown",
   "id": "2fe86e5c",
   "metadata": {},
   "source": [
    "I will export the best model I have found:"
   ]
  },
  {
   "cell_type": "code",
   "execution_count": 89,
   "id": "ab6e9fca",
   "metadata": {},
   "outputs": [
    {
     "data": {
      "text/plain": [
       "RandomForestClassifier(max_depth=15, n_estimators=800)"
      ]
     },
     "execution_count": 89,
     "metadata": {},
     "output_type": "execute_result"
    }
   ],
   "source": [
    "model = RandomForestClassifier(n_estimators=800, max_depth=15)\n",
    "model.fit(df_train.drop(['vowel', 'speaker'], axis=1), df_train['vowel'])"
   ]
  },
  {
   "cell_type": "code",
   "execution_count": 90,
   "id": "4ccbf920",
   "metadata": {},
   "outputs": [],
   "source": [
    "import pickle \n",
    "\n",
    "with open('vowel-model.bin', 'wb') as f_out:\n",
    "    pickle.dump((model), f_out)"
   ]
  },
  {
   "cell_type": "markdown",
   "id": "a9bd29c1",
   "metadata": {},
   "source": [
    "## Test Example"
   ]
  },
  {
   "cell_type": "markdown",
   "id": "6e0c603b",
   "metadata": {},
   "source": [
    "A random example from the test data:"
   ]
  },
  {
   "cell_type": "code",
   "execution_count": 109,
   "id": "0f42a89b",
   "metadata": {
    "scrolled": true
   },
   "outputs": [
    {
     "name": "stdout",
     "output_type": "stream",
     "text": [
      "Actual vowel: hed\n"
     ]
    }
   ],
   "source": [
    "# Pick a random example from the test set\n",
    "\n",
    "random_index = random.randint(0, df_test.shape[0] - 1)\n",
    "random_index\n",
    "\n",
    "example = df_test.drop(['speaker', 'vowel'], axis=1).iloc[[random_index,]]\n",
    "example = example.to_dict()\n",
    "vowel_int = df_test.iloc[random_index]['vowel'].astype(int)\n",
    "print(f'Actual vowel: {convert_to_vowel(vowel_int)}')"
   ]
  },
  {
   "cell_type": "markdown",
   "id": "1e13f40a",
   "metadata": {},
   "source": [
    "This example, predicted from the locally run model:"
   ]
  },
  {
   "cell_type": "code",
   "execution_count": 110,
   "id": "509af9cb",
   "metadata": {
    "scrolled": true
   },
   "outputs": [
    {
     "name": "stdout",
     "output_type": "stream",
     "text": [
      "Predicted vowel: hed\n"
     ]
    }
   ],
   "source": [
    "vowel_int = model.predict(df_test.drop(['speaker', 'vowel'], axis=1).iloc[[random_index,]])[0]\n",
    "print(f'Predicted vowel: {convert_to_vowel(vowel_int)}')"
   ]
  },
  {
   "cell_type": "markdown",
   "id": "babffc0f",
   "metadata": {},
   "source": [
    "This example, predicted from the locally run Docker file:"
   ]
  },
  {
   "cell_type": "code",
   "execution_count": 111,
   "id": "e6bb1694",
   "metadata": {},
   "outputs": [],
   "source": [
    "# import requests\n",
    "# url = 'http://localhost:9696/predict'\n",
    "# response = requests.post(url, json=example)\n",
    "# result = response.json()\n",
    "# result"
   ]
  },
  {
   "cell_type": "markdown",
   "id": "ceeb6636",
   "metadata": {},
   "source": [
    "Remotely run Docker file on Heroku:"
   ]
  },
  {
   "cell_type": "code",
   "execution_count": 112,
   "id": "64608f2d",
   "metadata": {},
   "outputs": [
    {
     "data": {
      "text/plain": [
       "{'Prediction': 'hed'}"
      ]
     },
     "execution_count": 112,
     "metadata": {},
     "output_type": "execute_result"
    }
   ],
   "source": [
    "import requests\n",
    "url = 'https://zoomcamp-midterm-heroku.herokuapp.com/predict'\n",
    "response = requests.post(url, json=example)\n",
    "result = response.json()\n",
    "result"
   ]
  },
  {
   "cell_type": "markdown",
   "id": "0de782a1",
   "metadata": {},
   "source": [
    "## Docker Deployment"
   ]
  },
  {
   "cell_type": "markdown",
   "id": "3f75911c",
   "metadata": {},
   "source": [
    "To build, make sure you're in the directory containing the Dockerfile, Pipfile, Pipfile.lock, vowel-model.bin and predict_vowel.py. Then: \n",
    "\n",
    "```sudo docker build -t zoomcamp-midterm .```\n",
    "\n",
    "To run:\n",
    "\n",
    "```sudo docker run -it --rm -p 9696:9696 zoomcamp-midterm:latest```"
   ]
  },
  {
   "cell_type": "markdown",
   "id": "ee3eba13",
   "metadata": {},
   "source": [
    "## Deploying Docker to Heroku\n",
    "I followed [this guide](https://github.com/nindate/ml-zoomcamp-exercises/blob/main/how-to-use-heroku.md) for deploying Docker to Heroku. I needed to not specify the port, which meant modifying predict.py:\n",
    "```if __name__ == '__main__':\n",
    "    port = int(os.environ.get(\"PORT\", 5000))  # For deployment to Heroku\n",
    "    app.run(host='0.0.0.0', port=port)  # When deployed locally, used port 9696```\n",
    "    \n",
    "I also needed to add a Procfile with the following:\n",
    "\n",
    "```web: gunicorn predict_vowel:app 0.0.0.0:$PORT```\n",
    "\n",
    "These adaptations came from [this guide](https://dev.to/ejach/how-to-deploy-a-python-flask-app-on-heroku-using-docker-mpc)."
   ]
  },
  {
   "cell_type": "markdown",
   "id": "d4bfd1ee",
   "metadata": {},
   "source": [
    "### Updating via Git\n",
    "I can now update via Git by making the changes in the directory, and then running \n",
    "\n",
    "```git push heroku main```\n",
    "\n",
    "This will automatically build the new Docker image and deploy it to Heroku."
   ]
  }
 ],
 "metadata": {
  "kernelspec": {
   "display_name": "Python 3 (ipykernel)",
   "language": "python",
   "name": "python3"
  },
  "language_info": {
   "codemirror_mode": {
    "name": "ipython",
    "version": 3
   },
   "file_extension": ".py",
   "mimetype": "text/x-python",
   "name": "python",
   "nbconvert_exporter": "python",
   "pygments_lexer": "ipython3",
   "version": "3.9.5"
  }
 },
 "nbformat": 4,
 "nbformat_minor": 5
}
